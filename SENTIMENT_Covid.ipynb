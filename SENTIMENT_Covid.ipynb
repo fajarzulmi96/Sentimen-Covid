{
  "nbformat": 4,
  "nbformat_minor": 0,
  "metadata": {
    "colab": {
      "provenance": []
    },
    "kernelspec": {
      "display_name": "Python 3",
      "language": "python",
      "name": "python3"
    },
    "language_info": {
      "codemirror_mode": {
        "name": "ipython",
        "version": 3
      },
      "file_extension": ".py",
      "mimetype": "text/x-python",
      "name": "python",
      "nbconvert_exporter": "python",
      "pygments_lexer": "ipython3",
      "version": "3.7.3"
    }
  },
  "cells": [
    {
      "cell_type": "markdown",
      "metadata": {
        "id": "Sjcdi79VAbU1"
      },
      "source": [
        "# Sentiment Analysis COVID19 in Indonesia"
      ]
    },
    {
      "cell_type": "markdown",
      "metadata": {
        "id": "lh9_cJyBCAJD"
      },
      "source": [
        "## Preparation"
      ]
    },
    {
      "cell_type": "markdown",
      "metadata": {
        "id": "h6-w3mDKuPaS"
      },
      "source": [
        "### Import Libraries"
      ]
    },
    {
      "cell_type": "code",
      "metadata": {
        "colab": {
          "base_uri": "https://localhost:8080/"
        },
        "id": "yi8ugUs-KR-H",
        "outputId": "64c573c4-20a7-4e2b-8bde-74fd9a7688e8"
      },
      "source": [
        "# Import Library Standard\n",
        "import numpy as np\n",
        "import pandas as pd\n",
        "import re\n",
        "import matplotlib.pyplot as plt\n",
        "import seaborn as sns\n",
        "\n",
        "# Import Library Sklearn\n",
        "from sklearn.model_selection import train_test_split, cross_val_score, GridSearchCV, RandomizedSearchCV\n",
        "from sklearn.preprocessing import LabelEncoder\n",
        "from sklearn.feature_extraction.text import CountVectorizer, TfidfVectorizer\n",
        "from sklearn.naive_bayes import MultinomialNB\n",
        "from sklearn.linear_model import RidgeClassifier, LogisticRegression\n",
        "from sklearn.svm import SVC\n",
        "from sklearn.neighbors import KNeighborsClassifier\n",
        "from sklearn.metrics import classification_report, plot_confusion_matrix\n",
        "from sklearn.pipeline import make_pipeline\n",
        "\n",
        "# Import Library untuk Stemming\n",
        "!pip install Sastrawi\n",
        "from Sastrawi.Stemmer.StemmerFactory import StemmerFactory\n",
        "from Sastrawi.StopWordRemover.StopWordRemoverFactory import StopWordRemoverFactory"
      ],
      "execution_count": null,
      "outputs": [
        {
          "output_type": "stream",
          "text": [
            "Requirement already satisfied: Sastrawi in /usr/local/lib/python3.7/dist-packages (1.0.1)\n"
          ],
          "name": "stdout"
        }
      ]
    },
    {
      "cell_type": "code",
      "metadata": {
        "id": "YPqoAj0P6jkg"
      },
      "source": [
        "import pandas as pd\n",
        "df = pd.read_csv('imdb_indonesian_movies_2.csv', sep='\\t')\n",
        "df.head()"
      ],
      "execution_count": null,
      "outputs": []
    },
    {
      "cell_type": "code",
      "metadata": {
        "colab": {
          "base_uri": "https://localhost:8080/",
          "height": 204
        },
        "id": "X_Bd58qox3ar",
        "outputId": "1362e7ca-92cc-43e1-8b7c-e0746be27f56"
      },
      "source": [
        "# Read Dataset\n",
        "data = pd.read_excel('Data_Sentimen.xlsx')\n",
        "# data = pd.read_excel('Data_Sentimen.xlsx')\n",
        "data.head()"
      ],
      "execution_count": null,
      "outputs": [
        {
          "output_type": "execute_result",
          "data": {
            "text/html": [
              "<div>\n",
              "<style scoped>\n",
              "    .dataframe tbody tr th:only-of-type {\n",
              "        vertical-align: middle;\n",
              "    }\n",
              "\n",
              "    .dataframe tbody tr th {\n",
              "        vertical-align: top;\n",
              "    }\n",
              "\n",
              "    .dataframe thead th {\n",
              "        text-align: right;\n",
              "    }\n",
              "</style>\n",
              "<table border=\"1\" class=\"dataframe\">\n",
              "  <thead>\n",
              "    <tr style=\"text-align: right;\">\n",
              "      <th></th>\n",
              "      <th>TYPE 1</th>\n",
              "      <th>USErNAME</th>\n",
              "      <th>Jumlah</th>\n",
              "    </tr>\n",
              "  </thead>\n",
              "  <tbody>\n",
              "    <tr>\n",
              "      <th>0</th>\n",
              "      <td>Positif</td>\n",
              "      <td>Yuni</td>\n",
              "      <td>1</td>\n",
              "    </tr>\n",
              "    <tr>\n",
              "      <th>1</th>\n",
              "      <td>Negatif</td>\n",
              "      <td>Yuni</td>\n",
              "      <td>0</td>\n",
              "    </tr>\n",
              "    <tr>\n",
              "      <th>2</th>\n",
              "      <td>Netral</td>\n",
              "      <td>Yuni</td>\n",
              "      <td>1</td>\n",
              "    </tr>\n",
              "    <tr>\n",
              "      <th>3</th>\n",
              "      <td>Positif</td>\n",
              "      <td>Latifatul Mujahidah</td>\n",
              "      <td>7</td>\n",
              "    </tr>\n",
              "    <tr>\n",
              "      <th>4</th>\n",
              "      <td>Negatif</td>\n",
              "      <td>Latifatul Mujahidah</td>\n",
              "      <td>1</td>\n",
              "    </tr>\n",
              "  </tbody>\n",
              "</table>\n",
              "</div>"
            ],
            "text/plain": [
              "    TYPE 1             USErNAME  Jumlah\n",
              "0  Positif                 Yuni       1\n",
              "1  Negatif                 Yuni       0\n",
              "2   Netral                 Yuni       1\n",
              "3  Positif  Latifatul Mujahidah       7\n",
              "4  Negatif  Latifatul Mujahidah       1"
            ]
          },
          "metadata": {
            "tags": []
          },
          "execution_count": 17
        }
      ]
    },
    {
      "cell_type": "markdown",
      "metadata": {
        "id": "VliiK3mxuPaW"
      },
      "source": [
        "### Data Exploration"
      ]
    },
    {
      "cell_type": "code",
      "metadata": {
        "colab": {
          "base_uri": "https://localhost:8080/",
          "height": 358
        },
        "id": "eitgld_r0ADS",
        "outputId": "956c4bbd-6fc4-48cb-ce3f-59a107e364d7"
      },
      "source": [
        "df = data[['DATA SENTIMEN ( TWEET DARI TWITTER)', 'TYPE1']].copy()\n",
        "df.rename(columns={'DATA SENTIMEN ( TWEET DARI TWITTER)':'komentar', 'TYPE1':'label'}, inplace=True)\n",
        "print('Ukuran Dataset: ', df.shape)\n",
        "df.head()"
      ],
      "execution_count": null,
      "outputs": [
        {
          "output_type": "error",
          "ename": "KeyError",
          "evalue": "ignored",
          "traceback": [
            "\u001b[0;31m---------------------------------------------------------------------------\u001b[0m",
            "\u001b[0;31mKeyError\u001b[0m                                  Traceback (most recent call last)",
            "\u001b[0;32m<ipython-input-14-4a8b817ed2f2>\u001b[0m in \u001b[0;36m<module>\u001b[0;34m()\u001b[0m\n\u001b[0;32m----> 1\u001b[0;31m \u001b[0mdf\u001b[0m \u001b[0;34m=\u001b[0m \u001b[0mdata\u001b[0m\u001b[0;34m[\u001b[0m\u001b[0;34m[\u001b[0m\u001b[0;34m'DATA SENTIMEN ( TWEET DARI TWITTER)'\u001b[0m\u001b[0;34m,\u001b[0m \u001b[0;34m'TYPE1'\u001b[0m\u001b[0;34m]\u001b[0m\u001b[0;34m]\u001b[0m\u001b[0;34m.\u001b[0m\u001b[0mcopy\u001b[0m\u001b[0;34m(\u001b[0m\u001b[0;34m)\u001b[0m\u001b[0;34m\u001b[0m\u001b[0;34m\u001b[0m\u001b[0m\n\u001b[0m\u001b[1;32m      2\u001b[0m \u001b[0mdf\u001b[0m\u001b[0;34m.\u001b[0m\u001b[0mrename\u001b[0m\u001b[0;34m(\u001b[0m\u001b[0mcolumns\u001b[0m\u001b[0;34m=\u001b[0m\u001b[0;34m{\u001b[0m\u001b[0;34m'DATA SENTIMEN ( TWEET DARI TWITTER)'\u001b[0m\u001b[0;34m:\u001b[0m\u001b[0;34m'komentar'\u001b[0m\u001b[0;34m,\u001b[0m \u001b[0;34m'TYPE1'\u001b[0m\u001b[0;34m:\u001b[0m\u001b[0;34m'label'\u001b[0m\u001b[0;34m}\u001b[0m\u001b[0;34m,\u001b[0m \u001b[0minplace\u001b[0m\u001b[0;34m=\u001b[0m\u001b[0;32mTrue\u001b[0m\u001b[0;34m)\u001b[0m\u001b[0;34m\u001b[0m\u001b[0;34m\u001b[0m\u001b[0m\n\u001b[1;32m      3\u001b[0m \u001b[0mprint\u001b[0m\u001b[0;34m(\u001b[0m\u001b[0;34m'Ukuran Dataset: '\u001b[0m\u001b[0;34m,\u001b[0m \u001b[0mdf\u001b[0m\u001b[0;34m.\u001b[0m\u001b[0mshape\u001b[0m\u001b[0;34m)\u001b[0m\u001b[0;34m\u001b[0m\u001b[0;34m\u001b[0m\u001b[0m\n\u001b[1;32m      4\u001b[0m \u001b[0mdf\u001b[0m\u001b[0;34m.\u001b[0m\u001b[0mhead\u001b[0m\u001b[0;34m(\u001b[0m\u001b[0;34m)\u001b[0m\u001b[0;34m\u001b[0m\u001b[0;34m\u001b[0m\u001b[0m\n",
            "\u001b[0;32m/usr/local/lib/python3.7/dist-packages/pandas/core/frame.py\u001b[0m in \u001b[0;36m__getitem__\u001b[0;34m(self, key)\u001b[0m\n\u001b[1;32m   2910\u001b[0m             \u001b[0;32mif\u001b[0m \u001b[0mis_iterator\u001b[0m\u001b[0;34m(\u001b[0m\u001b[0mkey\u001b[0m\u001b[0;34m)\u001b[0m\u001b[0;34m:\u001b[0m\u001b[0;34m\u001b[0m\u001b[0;34m\u001b[0m\u001b[0m\n\u001b[1;32m   2911\u001b[0m                 \u001b[0mkey\u001b[0m \u001b[0;34m=\u001b[0m \u001b[0mlist\u001b[0m\u001b[0;34m(\u001b[0m\u001b[0mkey\u001b[0m\u001b[0;34m)\u001b[0m\u001b[0;34m\u001b[0m\u001b[0;34m\u001b[0m\u001b[0m\n\u001b[0;32m-> 2912\u001b[0;31m             \u001b[0mindexer\u001b[0m \u001b[0;34m=\u001b[0m \u001b[0mself\u001b[0m\u001b[0;34m.\u001b[0m\u001b[0mloc\u001b[0m\u001b[0;34m.\u001b[0m\u001b[0m_get_listlike_indexer\u001b[0m\u001b[0;34m(\u001b[0m\u001b[0mkey\u001b[0m\u001b[0;34m,\u001b[0m \u001b[0maxis\u001b[0m\u001b[0;34m=\u001b[0m\u001b[0;36m1\u001b[0m\u001b[0;34m,\u001b[0m \u001b[0mraise_missing\u001b[0m\u001b[0;34m=\u001b[0m\u001b[0;32mTrue\u001b[0m\u001b[0;34m)\u001b[0m\u001b[0;34m[\u001b[0m\u001b[0;36m1\u001b[0m\u001b[0;34m]\u001b[0m\u001b[0;34m\u001b[0m\u001b[0;34m\u001b[0m\u001b[0m\n\u001b[0m\u001b[1;32m   2913\u001b[0m \u001b[0;34m\u001b[0m\u001b[0m\n\u001b[1;32m   2914\u001b[0m         \u001b[0;31m# take() does not accept boolean indexers\u001b[0m\u001b[0;34m\u001b[0m\u001b[0;34m\u001b[0m\u001b[0;34m\u001b[0m\u001b[0m\n",
            "\u001b[0;32m/usr/local/lib/python3.7/dist-packages/pandas/core/indexing.py\u001b[0m in \u001b[0;36m_get_listlike_indexer\u001b[0;34m(self, key, axis, raise_missing)\u001b[0m\n\u001b[1;32m   1252\u001b[0m             \u001b[0mkeyarr\u001b[0m\u001b[0;34m,\u001b[0m \u001b[0mindexer\u001b[0m\u001b[0;34m,\u001b[0m \u001b[0mnew_indexer\u001b[0m \u001b[0;34m=\u001b[0m \u001b[0max\u001b[0m\u001b[0;34m.\u001b[0m\u001b[0m_reindex_non_unique\u001b[0m\u001b[0;34m(\u001b[0m\u001b[0mkeyarr\u001b[0m\u001b[0;34m)\u001b[0m\u001b[0;34m\u001b[0m\u001b[0;34m\u001b[0m\u001b[0m\n\u001b[1;32m   1253\u001b[0m \u001b[0;34m\u001b[0m\u001b[0m\n\u001b[0;32m-> 1254\u001b[0;31m         \u001b[0mself\u001b[0m\u001b[0;34m.\u001b[0m\u001b[0m_validate_read_indexer\u001b[0m\u001b[0;34m(\u001b[0m\u001b[0mkeyarr\u001b[0m\u001b[0;34m,\u001b[0m \u001b[0mindexer\u001b[0m\u001b[0;34m,\u001b[0m \u001b[0maxis\u001b[0m\u001b[0;34m,\u001b[0m \u001b[0mraise_missing\u001b[0m\u001b[0;34m=\u001b[0m\u001b[0mraise_missing\u001b[0m\u001b[0;34m)\u001b[0m\u001b[0;34m\u001b[0m\u001b[0;34m\u001b[0m\u001b[0m\n\u001b[0m\u001b[1;32m   1255\u001b[0m         \u001b[0;32mreturn\u001b[0m \u001b[0mkeyarr\u001b[0m\u001b[0;34m,\u001b[0m \u001b[0mindexer\u001b[0m\u001b[0;34m\u001b[0m\u001b[0;34m\u001b[0m\u001b[0m\n\u001b[1;32m   1256\u001b[0m \u001b[0;34m\u001b[0m\u001b[0m\n",
            "\u001b[0;32m/usr/local/lib/python3.7/dist-packages/pandas/core/indexing.py\u001b[0m in \u001b[0;36m_validate_read_indexer\u001b[0;34m(self, key, indexer, axis, raise_missing)\u001b[0m\n\u001b[1;32m   1296\u001b[0m             \u001b[0;32mif\u001b[0m \u001b[0mmissing\u001b[0m \u001b[0;34m==\u001b[0m \u001b[0mlen\u001b[0m\u001b[0;34m(\u001b[0m\u001b[0mindexer\u001b[0m\u001b[0;34m)\u001b[0m\u001b[0;34m:\u001b[0m\u001b[0;34m\u001b[0m\u001b[0;34m\u001b[0m\u001b[0m\n\u001b[1;32m   1297\u001b[0m                 \u001b[0maxis_name\u001b[0m \u001b[0;34m=\u001b[0m \u001b[0mself\u001b[0m\u001b[0;34m.\u001b[0m\u001b[0mobj\u001b[0m\u001b[0;34m.\u001b[0m\u001b[0m_get_axis_name\u001b[0m\u001b[0;34m(\u001b[0m\u001b[0maxis\u001b[0m\u001b[0;34m)\u001b[0m\u001b[0;34m\u001b[0m\u001b[0;34m\u001b[0m\u001b[0m\n\u001b[0;32m-> 1298\u001b[0;31m                 \u001b[0;32mraise\u001b[0m \u001b[0mKeyError\u001b[0m\u001b[0;34m(\u001b[0m\u001b[0;34mf\"None of [{key}] are in the [{axis_name}]\"\u001b[0m\u001b[0;34m)\u001b[0m\u001b[0;34m\u001b[0m\u001b[0;34m\u001b[0m\u001b[0m\n\u001b[0m\u001b[1;32m   1299\u001b[0m \u001b[0;34m\u001b[0m\u001b[0m\n\u001b[1;32m   1300\u001b[0m             \u001b[0;31m# We (temporarily) allow for some missing keys with .loc, except in\u001b[0m\u001b[0;34m\u001b[0m\u001b[0;34m\u001b[0m\u001b[0;34m\u001b[0m\u001b[0m\n",
            "\u001b[0;31mKeyError\u001b[0m: \"None of [Index(['DATA SENTIMEN ( TWEET DARI TWITTER)', 'TYPE1'], dtype='object')] are in the [columns]\""
          ]
        }
      ]
    },
    {
      "cell_type": "code",
      "metadata": {
        "colab": {
          "base_uri": "https://localhost:8080/",
          "height": 333
        },
        "id": "CiDfSq_muPaX",
        "outputId": "66522287-1a26-458f-c8e7-9ac32f8658e9"
      },
      "source": [
        "import seaborn as sns\n",
        "sns.countplot(df['label']);"
      ],
      "execution_count": null,
      "outputs": [
        {
          "output_type": "stream",
          "text": [
            "/usr/local/lib/python3.7/dist-packages/seaborn/_decorators.py:43: FutureWarning: Pass the following variable as a keyword arg: x. From version 0.12, the only valid positional argument will be `data`, and passing other arguments without an explicit keyword will result in an error or misinterpretation.\n",
            "  FutureWarning\n"
          ],
          "name": "stderr"
        },
        {
          "output_type": "display_data",
          "data": {
            "image/png": "[encoded data removed]",
            "text/plain": [
              "<Figure size 432x288 with 1 Axes>"
            ]
          },
          "metadata": {
            "tags": [],
            "needs_background": "light"
          }
        }
      ]
    },
    {
      "cell_type": "code",
      "metadata": {
        "colab": {
          "base_uri": "https://localhost:8080/"
        },
        "id": "Mlz8EIfLuPaY",
        "outputId": "9a2fb801-6a59-49bf-93e7-36eba873fcc2"
      },
      "source": [
        "print(\"CONTOH KOMENTAR HASIL SCRAPPING\\n\")\n",
        "for i in range(1,5):\n",
        "      print(f\"KOMENTAR{i}:\\n {df['komentar'][i]}\")"
      ],
      "execution_count": null,
      "outputs": [
        {
          "output_type": "stream",
          "text": [
            "CONTOH KOMENTAR HASIL SCRAPPING\n",
            "\n",
            "KOMENTAR1:\n",
            " 10.30 #BeritaSONORA - Pengundian Nomor Urut Peserta Pilkada 2020, Gibran-Teguh Dapat Nomor Urut 1… https://t.co/QNBKQ8fDZW\n",
            "KOMENTAR2:\n",
            " RT @KompasTV: Pengundian Nomor Urut Peserta Pilkada 2020, Gibran-Teguh Dapat Nomor Urut 1 https://t.co/jJxPbptSvE https://t.co/lHhsJuJom9\n",
            "KOMENTAR3:\n",
            " Pengundian Nomor Urut Peserta Pilkada 2020, Gibran-Teguh Dapat Nomor Urut 1 https://t.co/jJxPbptSvE https://t.co/lHhsJuJom9\n",
            "KOMENTAR4:\n",
            " Pengundian Nomor Urut Peserta Pilkada 2020, Gibran-Teguh Dapat Nomor Urut 1 https://t.co/jJxPbptSvE https://t.co/lHhsJuJom9\n"
          ],
          "name": "stdout"
        }
      ]
    },
    {
      "cell_type": "markdown",
      "metadata": {
        "id": "dViZ4zuEuPaZ"
      },
      "source": [
        "banyak komentar yang masih mengandung link http, spasi dan @akun sehingga perlu dibersihkan terlebih dahulu"
      ]
    },
    {
      "cell_type": "markdown",
      "metadata": {
        "id": "5WygRRPXuPaa"
      },
      "source": [
        "## Preprocessing"
      ]
    },
    {
      "cell_type": "markdown",
      "metadata": {
        "id": "xg5DXoIpuPaa"
      },
      "source": [
        "### cleanning"
      ]
    },
    {
      "cell_type": "code",
      "metadata": {
        "id": "HaBphsM0uPaa"
      },
      "source": [
        "def clean_tweet(tweet):\n",
        "    \"\"\" cleaning tweet \n",
        "    source code: https://www.machinelearningplus.com/python/python-regex-tutorial-examples/\n",
        "    \"\"\"\n",
        "    tweet = re.sub('http\\S+\\s*', '', tweet)  # remove URLs\n",
        "    tweet = re.sub('pic\\.\\S+', '', tweet)  # remove picture twitter URLs\n",
        "    tweet = re.sub('RT|cc', '', tweet)  # remove RT and cc\n",
        "    tweet = re.sub('#\\S+', '', tweet)  # remove hashtags\n",
        "    tweet = re.sub('@\\S+', '', tweet)  # remove mentions\n",
        "    tweet = re.sub('[%s]' % re.escape(\"\"\"!\"#$%&'()*+,-./:;<=>?@[\\]^_`{|}~\"\"\"), '', tweet)  # remove punctuations\n",
        "    tweet = re.sub('\\s+', ' ', tweet)  # remove extra whitespace\n",
        "    return tweet"
      ],
      "execution_count": null,
      "outputs": []
    },
    {
      "cell_type": "code",
      "metadata": {
        "id": "b7TcV1ULuPab"
      },
      "source": [
        "df['komentar'] = df['komentar'].apply(lambda x:clean_tweet(x))"
      ],
      "execution_count": null,
      "outputs": []
    },
    {
      "cell_type": "code",
      "metadata": {
        "colab": {
          "base_uri": "https://localhost:8080/"
        },
        "id": "rSwECHfDuPab",
        "outputId": "2676dc13-b0ba-4867-aa00-749dcfa14248"
      },
      "source": [
        "for i in range(9,11):\n",
        "    print(f\"Contoh sebelum cleaning:\\n\\t{data['DATA SENTIMEN ( TWEET DARI TWITTER)'][i]}\")\n",
        "    print(f\"Contoh setelah cleaning:\\n\\t{df['komentar'][i]}\\n\")"
      ],
      "execution_count": null,
      "outputs": [
        {
          "output_type": "stream",
          "text": [
            "Contoh sebelum cleaning:\n",
            "\tResmi Ditetapkan KPU Kota Surakarta Dengan Nomor Urut 1, Gibran-Teguh Yakin Bakal Meraih Kemenangan… https://t.co/Vpi2FU4i3E\n",
            "Contoh setelah cleaning:\n",
            "\tResmi Ditetapkan KPU Kota Surakarta Dengan Nomor Urut 1 GibranTeguh Yakin Bakal Meraih Kemenangan… \n",
            "\n",
            "Contoh sebelum cleaning:\n",
            "\tcalon walikota solo tuh emang gibran teguh doang? aku ga pernah liat baliho atau spanduk lawannya di sepanjang jala… https://t.co/3POCnFYIXX\n",
            "Contoh setelah cleaning:\n",
            "\tcalon walikota solo tuh emang gibran teguh doang aku ga pernah liat baliho atau spanduk lawannya di sepanjang jala… \n",
            "\n"
          ],
          "name": "stdout"
        }
      ]
    },
    {
      "cell_type": "markdown",
      "metadata": {
        "id": "Qq7xV7mLC9Lf"
      },
      "source": [
        "### Spell Correction"
      ]
    },
    {
      "cell_type": "markdown",
      "metadata": {
        "id": "fDvYDBpeXToA"
      },
      "source": [
        "#### Stemming"
      ]
    },
    {
      "cell_type": "code",
      "metadata": {
        "id": "l002ZKDfXS5m"
      },
      "source": [
        "# Membuat stemmer\n",
        "stemmerFactory = StemmerFactory()\n",
        "stemmer = stemmerFactory.create_stemmer()\n",
        "\n",
        "# Daftar Stopword\n",
        "stopWordRemoverFactory = StopWordRemoverFactory()\n",
        "stopwords = stopWordRemoverFactory.get_stop_words()"
      ],
      "execution_count": null,
      "outputs": []
    },
    {
      "cell_type": "code",
      "metadata": {
        "id": "IWG1L5UtXyBP"
      },
      "source": [
        "df['komentar'] = df['komentar'].apply(lambda x: stemmer.stem(x))"
      ],
      "execution_count": null,
      "outputs": []
    },
    {
      "cell_type": "code",
      "metadata": {
        "colab": {
          "base_uri": "https://localhost:8080/"
        },
        "id": "P9pk_EOauPac",
        "outputId": "a6e0485d-638b-45cb-e74b-63cfbe35b7c6"
      },
      "source": [
        "for i in range(300, 310):\n",
        "    print(f\"sebelum stemming:\\n {data['DATA SENTIMEN ( TWEET DARI TWITTER)'][i]}\")\n",
        "    print(f\"setelah stemming:\\n {df['komentar'][i]}\\n\")"
      ],
      "execution_count": null,
      "outputs": [
        {
          "output_type": "stream",
          "text": [
            "sebelum stemming:\n",
            " Gibran - Teguh untuk Solo Bermanfaat @ Kampoeng Batik Laweyan - Solo https://t.co/9Iklc2UcrC\n",
            "setelah stemming:\n",
            " gibran teguh untuk solo manfaat kampoeng batik laweyan solo\n",
            "\n",
            "sebelum stemming:\n",
            " Gibran - Teguh untuk Solo Bermanfaat @ Kampoeng Batik Laweyan - Solo https://t.co/6gT9fkXnCg\n",
            "setelah stemming:\n",
            " gibran teguh untuk solo manfaat kampoeng batik laweyan solo\n",
            "\n",
            "sebelum stemming:\n",
            " @Fahrihamzah @msaid_didu Awalnya purnomo_teguh dtengah jalan dtkung gibran purnomo gagal maju stlah dpanggil jkw..\n",
            "setelah stemming:\n",
            " awal purnomoteguh dtengah jalan dtkung gibran purnomo gagal maju stlah dpanggil jkw\n",
            "\n",
            "sebelum stemming:\n",
            " RT @CNNIndonesia: #DetikNetwork\n",
            "Partai Gelombang Rakyat (Gelora) Indonesia mantap mendukung pasangan Gibran Rakabuming Raka-Teguh Prakoso d…\n",
            "setelah stemming:\n",
            " partai gelombang rakyat gelora indonesia mantap dukung pasang gibran rakabuming rakateguh prakoso d\n",
            "\n",
            "sebelum stemming:\n",
            " Hadirkan Paslon Gibran-Teguh dan Bagyo- Suparjo, Tokoh Lintas Agama di Solo Deklarasikan Pilkada Damai dan Sehat. B… https://t.co/4vBMI5zLts\n",
            "setelah stemming:\n",
            " hadir paslon gibranteguh dan bagyo suparjo tokoh lintas agama di solo deklarasi pilkada damai dan sehat b\n",
            "\n",
            "sebelum stemming:\n",
            " RT @CNNIndonesia: #DetikNetwork\n",
            "Partai Gelombang Rakyat (Gelora) Indonesia mantap mendukung pasangan Gibran Rakabuming Raka-Teguh Prakoso d…\n",
            "setelah stemming:\n",
            " partai gelombang rakyat gelora indonesia mantap dukung pasang gibran rakabuming rakateguh prakoso d\n",
            "\n",
            "sebelum stemming:\n",
            " RT @CNNIndonesia: #DetikNetwork\n",
            "Partai Gelombang Rakyat (Gelora) Indonesia mantap mendukung pasangan Gibran Rakabuming Raka-Teguh Prakoso d…\n",
            "setelah stemming:\n",
            " partai gelombang rakyat gelora indonesia mantap dukung pasang gibran rakabuming rakateguh prakoso d\n",
            "\n",
            "sebelum stemming:\n",
            " Panaskan Mesin Partai, Gibran Teguh Siap Menang Mutlak https://t.co/9E8IKGKDEQ\n",
            "setelah stemming:\n",
            " panas mesin partai gibran teguh siap menang mutlak\n",
            "\n",
            "sebelum stemming:\n",
            " RT @CNNIndonesia: #DetikNetwork\n",
            "Partai Gelombang Rakyat (Gelora) Indonesia mantap mendukung pasangan Gibran Rakabuming Raka-Teguh Prakoso d…\n",
            "setelah stemming:\n",
            " partai gelombang rakyat gelora indonesia mantap dukung pasang gibran rakabuming rakateguh prakoso d\n",
            "\n",
            "sebelum stemming:\n",
            " #DetikNetwork\n",
            "Partai Gelombang Rakyat (Gelora) Indonesia mantap mendukung pasangan Gibran Rakabuming Raka-Teguh Pra… https://t.co/8IzGzuuHEc\n",
            "setelah stemming:\n",
            " partai gelombang rakyat gelora indonesia mantap dukung pasang gibran rakabuming rakateguh pra\n",
            "\n"
          ],
          "name": "stdout"
        }
      ]
    },
    {
      "cell_type": "code",
      "metadata": {
        "colab": {
          "base_uri": "https://localhost:8080/",
          "height": 204
        },
        "id": "-qFKXHH1uPad",
        "outputId": "65700701-3686-42c3-8fcc-146721cb4616"
      },
      "source": [
        "df_clean = pd.DataFrame()\n",
        "df_clean['Komentar_scraping'] = data['DATA SENTIMEN ( TWEET DARI TWITTER)']\n",
        "df_clean['Komentar_clean'] = df['komentar']\n",
        "df_clean['label'] = df['label']\n",
        "df_clean.head(5)"
      ],
      "execution_count": null,
      "outputs": [
        {
          "output_type": "execute_result",
          "data": {
            "text/html": [
              "<div>\n",
              "<style scoped>\n",
              "    .dataframe tbody tr th:only-of-type {\n",
              "        vertical-align: middle;\n",
              "    }\n",
              "\n",
              "    .dataframe tbody tr th {\n",
              "        vertical-align: top;\n",
              "    }\n",
              "\n",
              "    .dataframe thead th {\n",
              "        text-align: right;\n",
              "    }\n",
              "</style>\n",
              "<table border=\"1\" class=\"dataframe\">\n",
              "  <thead>\n",
              "    <tr style=\"text-align: right;\">\n",
              "      <th></th>\n",
              "      <th>Komentar_scraping</th>\n",
              "      <th>Komentar_clean</th>\n",
              "      <th>label</th>\n",
              "    </tr>\n",
              "  </thead>\n",
              "  <tbody>\n",
              "    <tr>\n",
              "      <th>0</th>\n",
              "      <td>Pengambilan nomer urut paslon Pilkada Solo #id...</td>\n",
              "      <td>ambil nomer urut paslon pilkada solo</td>\n",
              "      <td>Netral</td>\n",
              "    </tr>\n",
              "    <tr>\n",
              "      <th>1</th>\n",
              "      <td>10.30 #BeritaSONORA - Pengundian Nomor Urut Pe...</td>\n",
              "      <td>1030 undi nomor urut serta pilkada 2020 gibran...</td>\n",
              "      <td>Positif</td>\n",
              "    </tr>\n",
              "    <tr>\n",
              "      <th>2</th>\n",
              "      <td>RT @KompasTV: Pengundian Nomor Urut Peserta Pi...</td>\n",
              "      <td>undi nomor urut serta pilkada 2020 gibranteguh...</td>\n",
              "      <td>Positif</td>\n",
              "    </tr>\n",
              "    <tr>\n",
              "      <th>3</th>\n",
              "      <td>Pengundian Nomor Urut Peserta Pilkada 2020, Gi...</td>\n",
              "      <td>undi nomor urut serta pilkada 2020 gibranteguh...</td>\n",
              "      <td>Netral</td>\n",
              "    </tr>\n",
              "    <tr>\n",
              "      <th>4</th>\n",
              "      <td>Pengundian Nomor Urut Peserta Pilkada 2020, Gi...</td>\n",
              "      <td>undi nomor urut serta pilkada 2020 gibranteguh...</td>\n",
              "      <td>Netral</td>\n",
              "    </tr>\n",
              "  </tbody>\n",
              "</table>\n",
              "</div>"
            ],
            "text/plain": [
              "                                   Komentar_scraping  ...    label\n",
              "0  Pengambilan nomer urut paslon Pilkada Solo #id...  ...   Netral\n",
              "1  10.30 #BeritaSONORA - Pengundian Nomor Urut Pe...  ...  Positif\n",
              "2  RT @KompasTV: Pengundian Nomor Urut Peserta Pi...  ...  Positif\n",
              "3  Pengundian Nomor Urut Peserta Pilkada 2020, Gi...  ...   Netral\n",
              "4  Pengundian Nomor Urut Peserta Pilkada 2020, Gi...  ...   Netral\n",
              "\n",
              "[5 rows x 3 columns]"
            ]
          },
          "metadata": {
            "tags": []
          },
          "execution_count": 14
        }
      ]
    },
    {
      "cell_type": "code",
      "metadata": {
        "id": "pVnDNzzLuPad"
      },
      "source": [
        "df_clean.to_excel(\"cleaning_data.xlsx\")"
      ],
      "execution_count": null,
      "outputs": []
    },
    {
      "cell_type": "code",
      "metadata": {
        "colab": {
          "base_uri": "https://localhost:8080/"
        },
        "id": "D4gWV8kpuPad",
        "outputId": "bca0df2d-6375-477f-a4be-921cb8f1c041"
      },
      "source": [
        "# pemisahan feature dan label\n",
        "X = df['komentar']\n",
        "y = df['label']\n",
        "X_train, X_val, y_train, y_val = train_test_split(X, y, test_size=0.1)\n",
        "print(f\"training size {X_train.size}\")\n",
        "print(f\"validasi size {X_val.size}\")"
      ],
      "execution_count": null,
      "outputs": [
        {
          "output_type": "stream",
          "text": [
            "training size 359\n",
            "validasi size 40\n"
          ],
          "name": "stdout"
        }
      ]
    },
    {
      "cell_type": "code",
      "metadata": {
        "id": "WGoanXxPuPae",
        "colab": {
          "base_uri": "https://localhost:8080/",
          "height": 181
        },
        "outputId": "fa7d5902-4cd0-4b99-8170-785bb85eddd9"
      },
      "source": [
        "sns.countplot(y_train)\n",
        "plt.title('Data Training')"
      ],
      "execution_count": null,
      "outputs": [
        {
          "output_type": "error",
          "ename": "NameError",
          "evalue": "ignored",
          "traceback": [
            "\u001b[0;31m---------------------------------------------------------------------------\u001b[0m",
            "\u001b[0;31mNameError\u001b[0m                                 Traceback (most recent call last)",
            "\u001b[0;32m<ipython-input-18-b8721cd3e678>\u001b[0m in \u001b[0;36m<module>\u001b[0;34m()\u001b[0m\n\u001b[0;32m----> 1\u001b[0;31m \u001b[0msns\u001b[0m\u001b[0;34m.\u001b[0m\u001b[0mcountplot\u001b[0m\u001b[0;34m(\u001b[0m\u001b[0my_train\u001b[0m\u001b[0;34m)\u001b[0m\u001b[0;34m\u001b[0m\u001b[0;34m\u001b[0m\u001b[0m\n\u001b[0m\u001b[1;32m      2\u001b[0m \u001b[0mplt\u001b[0m\u001b[0;34m.\u001b[0m\u001b[0mtitle\u001b[0m\u001b[0;34m(\u001b[0m\u001b[0;34m'Data Training'\u001b[0m\u001b[0;34m)\u001b[0m\u001b[0;34m\u001b[0m\u001b[0;34m\u001b[0m\u001b[0m\n",
            "\u001b[0;31mNameError\u001b[0m: name 'y_train' is not defined"
          ]
        }
      ]
    },
    {
      "cell_type": "code",
      "metadata": {
        "id": "blrwQ1qruPae",
        "colab": {
          "base_uri": "https://localhost:8080/",
          "height": 366
        },
        "outputId": "32174fe6-8b0a-445a-c8b4-43e101ab86e7"
      },
      "source": [
        "sns.countplot(y_val)\n",
        "plt.title('Data Validasi')"
      ],
      "execution_count": null,
      "outputs": [
        {
          "output_type": "stream",
          "text": [
            "/usr/local/lib/python3.7/dist-packages/seaborn/_decorators.py:43: FutureWarning: Pass the following variable as a keyword arg: x. From version 0.12, the only valid positional argument will be `data`, and passing other arguments without an explicit keyword will result in an error or misinterpretation.\n",
            "  FutureWarning\n"
          ],
          "name": "stderr"
        },
        {
          "output_type": "execute_result",
          "data": {
            "text/plain": [
              "Text(0.5, 1.0, 'Data Validasi')"
            ]
          },
          "metadata": {
            "tags": []
          },
          "execution_count": 20
        },
        {
          "output_type": "display_data",
          "data": {
            "image/png": "[encoded data removed]",
            "text/plain": [
              "<Figure size 432x288 with 1 Axes>"
            ]
          },
          "metadata": {
            "tags": [],
            "needs_background": "light"
          }
        }
      ]
    }
  ]
}